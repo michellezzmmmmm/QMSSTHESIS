{
 "cells": [
  {
   "cell_type": "code",
   "execution_count": 1,
   "id": "4df1679a-d12f-4011-bc8a-7f907b4fd6b9",
   "metadata": {},
   "outputs": [
    {
     "name": "stdout",
     "output_type": "stream",
     "text": [
      "Defaulting to user installation because normal site-packages is not writeable\n",
      "Collecting google-play-scraper\n",
      "  Downloading google_play_scraper-1.2.7-py3-none-any.whl.metadata (50 kB)\n",
      "     ---------------------------------------- 0.0/50.2 kB ? eta -:--:--\n",
      "     ------------------------ --------------- 30.7/50.2 kB ? eta -:--:--\n",
      "     ---------------------------------------- 50.2/50.2 kB 1.3 MB/s eta 0:00:00\n",
      "Downloading google_play_scraper-1.2.7-py3-none-any.whl (28 kB)\n",
      "Installing collected packages: google-play-scraper\n",
      "Successfully installed google-play-scraper-1.2.7\n",
      "Note: you may need to restart the kernel to use updated packages.\n"
     ]
    }
   ],
   "source": [
    "pip install google-play-scraper"
   ]
  },
  {
   "cell_type": "code",
   "execution_count": 3,
   "id": "4a7cffcb-fea7-44d6-845e-73179e3ac184",
   "metadata": {},
   "outputs": [
    {
     "name": "stdout",
     "output_type": "stream",
     "text": [
      "Defaulting to user installation because normal site-packages is not writeable\n",
      "Requirement already satisfied: tqdm in d:\\programdata\\anaconda3\\lib\\site-packages (4.66.4)\n",
      "Requirement already satisfied: colorama in d:\\programdata\\anaconda3\\lib\\site-packages (from tqdm) (0.4.6)\n",
      "Note: you may need to restart the kernel to use updated packages.\n"
     ]
    }
   ],
   "source": [
    "pip install tqdm"
   ]
  },
  {
   "cell_type": "code",
   "execution_count": 8,
   "id": "c4b26f4e-9cb6-4e82-ad56-a605558239a5",
   "metadata": {},
   "outputs": [
    {
     "name": "stdout",
     "output_type": "stream",
     "text": [
      "🎯 该 APP 在 Google Play 上的总评论数: 126440\n",
      "⏳ 预计需要爬取 252 次，每次 500 条\n"
     ]
    },
    {
     "name": "stderr",
     "output_type": "stream",
     "text": [
      "\n",
      "Total Reviews Fetched:   3%|█▍                                             | 4000/126440 [01:08<34:45, 58.70 reviews/s]\u001b[A"
     ]
    },
    {
     "name": "stdout",
     "output_type": "stream",
     "text": [
      "⏳ 正在爬取 500 条评论...\n"
     ]
    },
    {
     "name": "stderr",
     "output_type": "stream",
     "text": [
      "\n",
      "\n",
      "Total Reviews Fetched:   0%|▏                                             | 500/126440 [00:00<01:02, 2012.00 reviews/s]\u001b[A"
     ]
    },
    {
     "name": "stdout",
     "output_type": "stream",
     "text": [
      "💾 数据已存储到 genshin_impact_reviews_last_year.csv，当前数据量: 500\n",
      "⏳ 正在爬取 500 条评论...\n"
     ]
    },
    {
     "name": "stderr",
     "output_type": "stream",
     "text": [
      "\n",
      "Total Reviews Fetched:   1%|▎                                             | 1000/126440 [00:05<13:20, 156.74 reviews/s]\u001b[A"
     ]
    },
    {
     "name": "stdout",
     "output_type": "stream",
     "text": [
      "💾 数据已存储到 genshin_impact_reviews_last_year.csv，当前数据量: 1000\n",
      "⏳ 正在爬取 500 条评论...\n"
     ]
    },
    {
     "name": "stderr",
     "output_type": "stream",
     "text": [
      "\n",
      "Total Reviews Fetched:   1%|▌                                             | 1500/126440 [00:10<17:29, 119.03 reviews/s]\u001b[A"
     ]
    },
    {
     "name": "stdout",
     "output_type": "stream",
     "text": [
      "💾 数据已存储到 genshin_impact_reviews_last_year.csv，当前数据量: 1500\n",
      "⏳ 正在爬取 500 条评论...\n"
     ]
    },
    {
     "name": "stderr",
     "output_type": "stream",
     "text": [
      "\n",
      "Total Reviews Fetched:   2%|▋                                             | 2000/126440 [00:16<19:23, 106.97 reviews/s]\u001b[A"
     ]
    },
    {
     "name": "stdout",
     "output_type": "stream",
     "text": [
      "💾 数据已存储到 genshin_impact_reviews_last_year.csv，当前数据量: 2000\n",
      "⏳ 正在爬取 500 条评论...\n"
     ]
    },
    {
     "name": "stderr",
     "output_type": "stream",
     "text": [
      "\n",
      "Total Reviews Fetched:   2%|▉                                             | 2500/126440 [00:21<20:23, 101.33 reviews/s]\u001b[A"
     ]
    },
    {
     "name": "stdout",
     "output_type": "stream",
     "text": [
      "💾 数据已存储到 genshin_impact_reviews_last_year.csv，当前数据量: 2500\n",
      "⏳ 正在爬取 500 条评论...\n"
     ]
    },
    {
     "name": "stderr",
     "output_type": "stream",
     "text": [
      "\n",
      "Total Reviews Fetched:   2%|█                                              | 3000/126440 [00:27<21:00, 97.96 reviews/s]\u001b[A"
     ]
    },
    {
     "name": "stdout",
     "output_type": "stream",
     "text": [
      "💾 数据已存储到 genshin_impact_reviews_last_year.csv，当前数据量: 3000\n",
      "⏳ 正在爬取 500 条评论...\n"
     ]
    },
    {
     "name": "stderr",
     "output_type": "stream",
     "text": [
      "\n",
      "Total Reviews Fetched:   3%|█▎                                             | 3500/126440 [00:32<21:28, 95.40 reviews/s]\u001b[A"
     ]
    },
    {
     "name": "stdout",
     "output_type": "stream",
     "text": [
      "💾 数据已存储到 genshin_impact_reviews_last_year.csv，当前数据量: 3500\n",
      "⏳ 正在爬取 500 条评论...\n"
     ]
    },
    {
     "name": "stderr",
     "output_type": "stream",
     "text": [
      "\n",
      "Total Reviews Fetched:   3%|█▍                                             | 4000/126440 [00:37<21:25, 95.24 reviews/s]\u001b[A"
     ]
    },
    {
     "name": "stdout",
     "output_type": "stream",
     "text": [
      "💾 数据已存储到 genshin_impact_reviews_last_year.csv，当前数据量: 4000\n",
      "⏳ 正在爬取 500 条评论...\n"
     ]
    },
    {
     "name": "stderr",
     "output_type": "stream",
     "text": [
      "\n",
      "Total Reviews Fetched:   4%|█▋                                             | 4500/126440 [00:43<21:20, 95.19 reviews/s]\u001b[A"
     ]
    },
    {
     "name": "stdout",
     "output_type": "stream",
     "text": [
      "💾 数据已存储到 genshin_impact_reviews_last_year.csv，当前数据量: 4500\n",
      "⏳ 正在爬取 500 条评论...\n"
     ]
    },
    {
     "name": "stderr",
     "output_type": "stream",
     "text": [
      "\n",
      "Total Reviews Fetched:   4%|█▊                                             | 5000/126440 [00:48<21:18, 94.98 reviews/s]\u001b[A"
     ]
    },
    {
     "name": "stdout",
     "output_type": "stream",
     "text": [
      "💾 数据已存储到 genshin_impact_reviews_last_year.csv，当前数据量: 5000\n",
      "⏳ 正在爬取 500 条评论...\n"
     ]
    },
    {
     "name": "stderr",
     "output_type": "stream",
     "text": [
      "\n",
      "Total Reviews Fetched:   4%|██                                             | 5500/126440 [00:53<21:14, 94.90 reviews/s]\u001b[A"
     ]
    },
    {
     "name": "stdout",
     "output_type": "stream",
     "text": [
      "💾 数据已存储到 genshin_impact_reviews_last_year.csv，当前数据量: 5500\n",
      "⏳ 正在爬取 500 条评论...\n"
     ]
    },
    {
     "name": "stderr",
     "output_type": "stream",
     "text": [
      "\n",
      "Total Reviews Fetched:   5%|██▏                                            | 6000/126440 [00:59<21:08, 94.93 reviews/s]\u001b[A"
     ]
    },
    {
     "name": "stdout",
     "output_type": "stream",
     "text": [
      "💾 数据已存储到 genshin_impact_reviews_last_year.csv，当前数据量: 6000\n",
      "⏳ 正在爬取 500 条评论...\n"
     ]
    },
    {
     "name": "stderr",
     "output_type": "stream",
     "text": [
      "\n",
      "Total Reviews Fetched:   5%|██▍                                            | 6500/126440 [01:04<21:00, 95.14 reviews/s]\u001b[A"
     ]
    },
    {
     "name": "stdout",
     "output_type": "stream",
     "text": [
      "💾 数据已存储到 genshin_impact_reviews_last_year.csv，当前数据量: 6500\n",
      "⏳ 正在爬取 500 条评论...\n"
     ]
    },
    {
     "name": "stderr",
     "output_type": "stream",
     "text": [
      "\n",
      "Total Reviews Fetched:   6%|██▌                                            | 7000/126440 [01:09<21:11, 93.90 reviews/s]\u001b[A"
     ]
    },
    {
     "name": "stdout",
     "output_type": "stream",
     "text": [
      "💾 数据已存储到 genshin_impact_reviews_last_year.csv，当前数据量: 7000\n",
      "⏳ 正在爬取 500 条评论...\n"
     ]
    },
    {
     "name": "stderr",
     "output_type": "stream",
     "text": [
      "\n",
      "Total Reviews Fetched:   6%|██▊                                            | 7500/126440 [01:15<21:21, 92.81 reviews/s]\u001b[A"
     ]
    },
    {
     "name": "stdout",
     "output_type": "stream",
     "text": [
      "💾 数据已存储到 genshin_impact_reviews_last_year.csv，当前数据量: 7500\n",
      "⏳ 正在爬取 500 条评论...\n"
     ]
    },
    {
     "name": "stderr",
     "output_type": "stream",
     "text": [
      "\n",
      "Total Reviews Fetched:   6%|██▉                                            | 8000/126440 [01:20<21:24, 92.23 reviews/s]\u001b[A"
     ]
    },
    {
     "name": "stdout",
     "output_type": "stream",
     "text": [
      "💾 数据已存储到 genshin_impact_reviews_last_year.csv，当前数据量: 8000\n",
      "⏳ 正在爬取 500 条评论...\n"
     ]
    },
    {
     "name": "stderr",
     "output_type": "stream",
     "text": [
      "\n",
      "Total Reviews Fetched:   7%|███▏                                           | 8500/126440 [01:26<21:07, 93.07 reviews/s]\u001b[A"
     ]
    },
    {
     "name": "stdout",
     "output_type": "stream",
     "text": [
      "💾 数据已存储到 genshin_impact_reviews_last_year.csv，当前数据量: 8500\n",
      "⏳ 正在爬取 500 条评论...\n"
     ]
    },
    {
     "name": "stderr",
     "output_type": "stream",
     "text": [
      "\n",
      "Total Reviews Fetched:   7%|███▎                                           | 9000/126440 [01:31<21:13, 92.24 reviews/s]\u001b[A"
     ]
    },
    {
     "name": "stdout",
     "output_type": "stream",
     "text": [
      "💾 数据已存储到 genshin_impact_reviews_last_year.csv，当前数据量: 9000\n",
      "⏳ 正在爬取 500 条评论...\n"
     ]
    },
    {
     "name": "stderr",
     "output_type": "stream",
     "text": [
      "\n",
      "Total Reviews Fetched:   8%|███▌                                           | 9500/126440 [01:37<21:13, 91.82 reviews/s]\u001b[A"
     ]
    },
    {
     "name": "stdout",
     "output_type": "stream",
     "text": [
      "💾 数据已存储到 genshin_impact_reviews_last_year.csv，当前数据量: 9500\n",
      "⏳ 正在爬取 500 条评论...\n"
     ]
    },
    {
     "name": "stderr",
     "output_type": "stream",
     "text": [
      "\n",
      "Total Reviews Fetched:   8%|███▋                                          | 10000/126440 [01:42<21:19, 91.02 reviews/s]\u001b[A"
     ]
    },
    {
     "name": "stdout",
     "output_type": "stream",
     "text": [
      "💾 数据已存储到 genshin_impact_reviews_last_year.csv，当前数据量: 10000\n",
      "⏳ 正在爬取 500 条评论...\n"
     ]
    },
    {
     "name": "stderr",
     "output_type": "stream",
     "text": [
      "\n",
      "Total Reviews Fetched:   8%|███▊                                          | 10500/126440 [01:47<20:55, 92.32 reviews/s]\u001b[A"
     ]
    },
    {
     "name": "stdout",
     "output_type": "stream",
     "text": [
      "💾 数据已存储到 genshin_impact_reviews_last_year.csv，当前数据量: 10500\n",
      "⏳ 正在爬取 500 条评论...\n"
     ]
    },
    {
     "name": "stderr",
     "output_type": "stream",
     "text": [
      "\n",
      "Total Reviews Fetched:   9%|████                                          | 11000/126440 [01:53<20:41, 92.97 reviews/s]\u001b[A"
     ]
    },
    {
     "name": "stdout",
     "output_type": "stream",
     "text": [
      "💾 数据已存储到 genshin_impact_reviews_last_year.csv，当前数据量: 11000\n",
      "⏳ 正在爬取 500 条评论...\n"
     ]
    },
    {
     "name": "stderr",
     "output_type": "stream",
     "text": [
      "\n",
      "Total Reviews Fetched:   9%|████▏                                         | 11500/126440 [01:58<20:45, 92.28 reviews/s]\u001b[A"
     ]
    },
    {
     "name": "stdout",
     "output_type": "stream",
     "text": [
      "💾 数据已存储到 genshin_impact_reviews_last_year.csv，当前数据量: 11500\n",
      "⏳ 正在爬取 500 条评论...\n"
     ]
    },
    {
     "name": "stderr",
     "output_type": "stream",
     "text": [
      "\n",
      "Total Reviews Fetched:   9%|████▎                                         | 12000/126440 [02:04<20:44, 91.98 reviews/s]\u001b[A"
     ]
    },
    {
     "name": "stdout",
     "output_type": "stream",
     "text": [
      "💾 数据已存储到 genshin_impact_reviews_last_year.csv，当前数据量: 12000\n",
      "⏳ 正在爬取 500 条评论...\n"
     ]
    },
    {
     "name": "stderr",
     "output_type": "stream",
     "text": [
      "\n",
      "Total Reviews Fetched:  10%|████▌                                         | 12500/126440 [02:09<20:45, 91.45 reviews/s]\u001b[A"
     ]
    },
    {
     "name": "stdout",
     "output_type": "stream",
     "text": [
      "💾 数据已存储到 genshin_impact_reviews_last_year.csv，当前数据量: 12500\n",
      "⏳ 正在爬取 500 条评论...\n"
     ]
    },
    {
     "name": "stderr",
     "output_type": "stream",
     "text": [
      "\n",
      "Total Reviews Fetched:  10%|████▋                                         | 13000/126440 [02:15<20:50, 90.73 reviews/s]\u001b[A"
     ]
    },
    {
     "name": "stdout",
     "output_type": "stream",
     "text": [
      "💾 数据已存储到 genshin_impact_reviews_last_year.csv，当前数据量: 13000\n",
      "⏳ 正在爬取 500 条评论...\n"
     ]
    },
    {
     "name": "stderr",
     "output_type": "stream",
     "text": [
      "\n",
      "Total Reviews Fetched:  11%|████▉                                         | 13500/126440 [02:20<20:43, 90.81 reviews/s]\u001b[A"
     ]
    },
    {
     "name": "stdout",
     "output_type": "stream",
     "text": [
      "💾 数据已存储到 genshin_impact_reviews_last_year.csv，当前数据量: 13500\n",
      "⏳ 正在爬取 500 条评论...\n"
     ]
    },
    {
     "name": "stderr",
     "output_type": "stream",
     "text": [
      "\n",
      "Total Reviews Fetched:  11%|█████                                         | 14000/126440 [02:26<20:47, 90.15 reviews/s]\u001b[A"
     ]
    },
    {
     "name": "stdout",
     "output_type": "stream",
     "text": [
      "💾 数据已存储到 genshin_impact_reviews_last_year.csv，当前数据量: 14000\n",
      "⏳ 正在爬取 500 条评论...\n"
     ]
    },
    {
     "name": "stderr",
     "output_type": "stream",
     "text": [
      "\n",
      "Total Reviews Fetched:  11%|█████▎                                        | 14500/126440 [02:32<20:43, 90.00 reviews/s]\u001b[A"
     ]
    },
    {
     "name": "stdout",
     "output_type": "stream",
     "text": [
      "💾 数据已存储到 genshin_impact_reviews_last_year.csv，当前数据量: 14500\n",
      "⏳ 正在爬取 500 条评论...\n"
     ]
    },
    {
     "name": "stderr",
     "output_type": "stream",
     "text": [
      "\n",
      "Total Reviews Fetched:  12%|█████▍                                        | 15000/126440 [02:37<20:38, 89.95 reviews/s]\u001b[A"
     ]
    },
    {
     "name": "stdout",
     "output_type": "stream",
     "text": [
      "💾 数据已存储到 genshin_impact_reviews_last_year.csv，当前数据量: 15000\n",
      "⏳ 正在爬取 500 条评论...\n"
     ]
    },
    {
     "name": "stderr",
     "output_type": "stream",
     "text": [
      "\n",
      "Total Reviews Fetched:  12%|█████▋                                        | 15500/126440 [02:43<20:31, 90.05 reviews/s]\u001b[A"
     ]
    },
    {
     "name": "stdout",
     "output_type": "stream",
     "text": [
      "💾 数据已存储到 genshin_impact_reviews_last_year.csv，当前数据量: 15500\n",
      "⏳ 正在爬取 500 条评论...\n"
     ]
    },
    {
     "name": "stderr",
     "output_type": "stream",
     "text": [
      "\n",
      "Total Reviews Fetched:  13%|█████▊                                        | 16000/126440 [02:48<20:30, 89.77 reviews/s]\u001b[A"
     ]
    },
    {
     "name": "stdout",
     "output_type": "stream",
     "text": [
      "💾 数据已存储到 genshin_impact_reviews_last_year.csv，当前数据量: 16000\n",
      "⏳ 正在爬取 500 条评论...\n"
     ]
    },
    {
     "name": "stderr",
     "output_type": "stream",
     "text": [
      "\n",
      "Total Reviews Fetched:  13%|██████                                        | 16500/126440 [02:54<20:28, 89.50 reviews/s]\u001b[A"
     ]
    },
    {
     "name": "stdout",
     "output_type": "stream",
     "text": [
      "💾 数据已存储到 genshin_impact_reviews_last_year.csv，当前数据量: 16500\n",
      "⏳ 正在爬取 500 条评论...\n"
     ]
    },
    {
     "name": "stderr",
     "output_type": "stream",
     "text": [
      "\n",
      "Total Reviews Fetched:  13%|██████▏                                       | 17000/126440 [02:59<20:24, 89.37 reviews/s]\u001b[A"
     ]
    },
    {
     "name": "stdout",
     "output_type": "stream",
     "text": [
      "💾 数据已存储到 genshin_impact_reviews_last_year.csv，当前数据量: 17000\n",
      "⏳ 正在爬取 500 条评论...\n"
     ]
    },
    {
     "name": "stderr",
     "output_type": "stream",
     "text": [
      "\n",
      "Total Reviews Fetched:  14%|██████▎                                       | 17500/126440 [03:05<20:20, 89.26 reviews/s]\u001b[A"
     ]
    },
    {
     "name": "stdout",
     "output_type": "stream",
     "text": [
      "💾 数据已存储到 genshin_impact_reviews_last_year.csv，当前数据量: 17500\n",
      "⏳ 正在爬取 500 条评论...\n"
     ]
    },
    {
     "name": "stderr",
     "output_type": "stream",
     "text": [
      "\n",
      "Total Reviews Fetched:  14%|██████▌                                       | 18000/126440 [03:11<20:14, 89.26 reviews/s]\u001b[A"
     ]
    },
    {
     "name": "stdout",
     "output_type": "stream",
     "text": [
      "💾 数据已存储到 genshin_impact_reviews_last_year.csv，当前数据量: 18000\n",
      "⏳ 正在爬取 500 条评论...\n"
     ]
    },
    {
     "name": "stderr",
     "output_type": "stream",
     "text": [
      "\n",
      "Total Reviews Fetched:  15%|██████▋                                       | 18500/126440 [03:16<20:12, 89.02 reviews/s]\u001b[A"
     ]
    },
    {
     "name": "stdout",
     "output_type": "stream",
     "text": [
      "💾 数据已存储到 genshin_impact_reviews_last_year.csv，当前数据量: 18500\n",
      "⏳ 正在爬取 500 条评论...\n"
     ]
    },
    {
     "name": "stderr",
     "output_type": "stream",
     "text": [
      "\n",
      "Total Reviews Fetched:  15%|██████▉                                       | 19000/126440 [03:22<20:08, 88.93 reviews/s]\u001b[A"
     ]
    },
    {
     "name": "stdout",
     "output_type": "stream",
     "text": [
      "💾 数据已存储到 genshin_impact_reviews_last_year.csv，当前数据量: 19000\n",
      "⏳ 正在爬取 500 条评论...\n"
     ]
    },
    {
     "name": "stderr",
     "output_type": "stream",
     "text": [
      "\n",
      "Total Reviews Fetched:  15%|███████                                       | 19500/126440 [03:28<20:00, 89.10 reviews/s]\u001b[A"
     ]
    },
    {
     "name": "stdout",
     "output_type": "stream",
     "text": [
      "💾 数据已存储到 genshin_impact_reviews_last_year.csv，当前数据量: 19500\n",
      "⏳ 正在爬取 500 条评论...\n"
     ]
    },
    {
     "name": "stderr",
     "output_type": "stream",
     "text": [
      "\n",
      "Total Reviews Fetched:  16%|███████▎                                      | 20000/126440 [03:33<20:00, 88.66 reviews/s]\u001b[A"
     ]
    },
    {
     "name": "stdout",
     "output_type": "stream",
     "text": [
      "💾 数据已存储到 genshin_impact_reviews_last_year.csv，当前数据量: 20000\n",
      "⏳ 正在爬取 500 条评论...\n"
     ]
    },
    {
     "name": "stderr",
     "output_type": "stream",
     "text": [
      "\n",
      "Total Reviews Fetched:  16%|███████▍                                      | 20500/126440 [03:39<19:51, 88.92 reviews/s]\u001b[A"
     ]
    },
    {
     "name": "stdout",
     "output_type": "stream",
     "text": [
      "💾 数据已存储到 genshin_impact_reviews_last_year.csv，当前数据量: 20500\n",
      "⏳ 正在爬取 500 条评论...\n"
     ]
    },
    {
     "name": "stderr",
     "output_type": "stream",
     "text": [
      "\n",
      "Total Reviews Fetched:  17%|███████▋                                      | 21000/126440 [03:44<19:45, 88.93 reviews/s]\u001b[A"
     ]
    },
    {
     "name": "stdout",
     "output_type": "stream",
     "text": [
      "💾 数据已存储到 genshin_impact_reviews_last_year.csv，当前数据量: 21000\n",
      "⏳ 正在爬取 500 条评论...\n"
     ]
    },
    {
     "name": "stderr",
     "output_type": "stream",
     "text": [
      "\n",
      "Total Reviews Fetched:  17%|███████▊                                      | 21500/126440 [03:50<19:40, 88.86 reviews/s]\u001b[A"
     ]
    },
    {
     "name": "stdout",
     "output_type": "stream",
     "text": [
      "💾 数据已存储到 genshin_impact_reviews_last_year.csv，当前数据量: 21500\n",
      "⏳ 正在爬取 500 条评论...\n"
     ]
    },
    {
     "name": "stderr",
     "output_type": "stream",
     "text": [
      "\n",
      "Total Reviews Fetched:  17%|████████                                      | 22000/126440 [03:56<19:44, 88.17 reviews/s]\u001b[A"
     ]
    },
    {
     "name": "stdout",
     "output_type": "stream",
     "text": [
      "💾 数据已存储到 genshin_impact_reviews_last_year.csv，当前数据量: 22000\n",
      "⏳ 正在爬取 500 条评论...\n"
     ]
    },
    {
     "name": "stderr",
     "output_type": "stream",
     "text": [
      "\n",
      "Total Reviews Fetched:  18%|████████▏                                     | 22500/126440 [04:02<19:42, 87.87 reviews/s]\u001b[A"
     ]
    },
    {
     "name": "stdout",
     "output_type": "stream",
     "text": [
      "💾 数据已存储到 genshin_impact_reviews_last_year.csv，当前数据量: 22500\n",
      "⏳ 正在爬取 500 条评论...\n"
     ]
    },
    {
     "name": "stderr",
     "output_type": "stream",
     "text": [
      "\n",
      "Total Reviews Fetched:  18%|████████▎                                     | 23000/126440 [04:07<19:34, 88.10 reviews/s]\u001b[A"
     ]
    },
    {
     "name": "stdout",
     "output_type": "stream",
     "text": [
      "💾 数据已存储到 genshin_impact_reviews_last_year.csv，当前数据量: 23000\n",
      "⏳ 正在爬取 500 条评论...\n"
     ]
    },
    {
     "name": "stderr",
     "output_type": "stream",
     "text": [
      "\n",
      "Total Reviews Fetched:  19%|████████▌                                     | 23500/126440 [04:13<19:26, 88.26 reviews/s]\u001b[A"
     ]
    },
    {
     "name": "stdout",
     "output_type": "stream",
     "text": [
      "💾 数据已存储到 genshin_impact_reviews_last_year.csv，当前数据量: 23500\n",
      "⏳ 正在爬取 500 条评论...\n"
     ]
    },
    {
     "name": "stderr",
     "output_type": "stream",
     "text": [
      "\n",
      "Total Reviews Fetched:  19%|████████▋                                     | 24000/126440 [04:19<19:20, 88.25 reviews/s]\u001b[A"
     ]
    },
    {
     "name": "stdout",
     "output_type": "stream",
     "text": [
      "💾 数据已存储到 genshin_impact_reviews_last_year.csv，当前数据量: 24000\n",
      "⏳ 正在爬取 500 条评论...\n"
     ]
    },
    {
     "name": "stderr",
     "output_type": "stream",
     "text": [
      "\n",
      "Total Reviews Fetched:  19%|████████▉                                     | 24500/126440 [04:24<19:17, 88.04 reviews/s]\u001b[A"
     ]
    },
    {
     "name": "stdout",
     "output_type": "stream",
     "text": [
      "💾 数据已存储到 genshin_impact_reviews_last_year.csv，当前数据量: 24500\n",
      "⏳ 正在爬取 500 条评论...\n"
     ]
    },
    {
     "name": "stderr",
     "output_type": "stream",
     "text": [
      "\n",
      "Total Reviews Fetched:  20%|█████████                                     | 25000/126440 [04:30<19:18, 87.54 reviews/s]\u001b[A"
     ]
    },
    {
     "name": "stdout",
     "output_type": "stream",
     "text": [
      "💾 数据已存储到 genshin_impact_reviews_last_year.csv，当前数据量: 25000\n",
      "⏳ 正在爬取 500 条评论...\n"
     ]
    },
    {
     "name": "stderr",
     "output_type": "stream",
     "text": [
      "\n",
      "Total Reviews Fetched:  20%|█████████▎                                    | 25500/126440 [04:36<19:11, 87.65 reviews/s]\u001b[A"
     ]
    },
    {
     "name": "stdout",
     "output_type": "stream",
     "text": [
      "💾 数据已存储到 genshin_impact_reviews_last_year.csv，当前数据量: 25500\n",
      "⏳ 正在爬取 500 条评论...\n"
     ]
    },
    {
     "name": "stderr",
     "output_type": "stream",
     "text": [
      "\n",
      "Total Reviews Fetched:  21%|█████████▍                                    | 26000/126440 [04:42<19:12, 87.14 reviews/s]\u001b[A"
     ]
    },
    {
     "name": "stdout",
     "output_type": "stream",
     "text": [
      "💾 数据已存储到 genshin_impact_reviews_last_year.csv，当前数据量: 26000\n",
      "⏳ 正在爬取 500 条评论...\n"
     ]
    },
    {
     "name": "stderr",
     "output_type": "stream",
     "text": [
      "\n",
      "Total Reviews Fetched:  21%|█████████▋                                    | 26500/126440 [04:47<19:02, 87.46 reviews/s]\u001b[A"
     ]
    },
    {
     "name": "stdout",
     "output_type": "stream",
     "text": [
      "💾 数据已存储到 genshin_impact_reviews_last_year.csv，当前数据量: 26500\n",
      "⏳ 正在爬取 500 条评论...\n"
     ]
    },
    {
     "name": "stderr",
     "output_type": "stream",
     "text": [
      "\n",
      "Total Reviews Fetched:  21%|█████████▊                                    | 27000/126440 [04:53<19:00, 87.22 reviews/s]\u001b[A"
     ]
    },
    {
     "name": "stdout",
     "output_type": "stream",
     "text": [
      "💾 数据已存储到 genshin_impact_reviews_last_year.csv，当前数据量: 27000\n",
      "⏳ 正在爬取 500 条评论...\n"
     ]
    },
    {
     "name": "stderr",
     "output_type": "stream",
     "text": [
      "\n",
      "Total Reviews Fetched:  22%|██████████                                    | 27500/126440 [04:59<18:54, 87.22 reviews/s]\u001b[A"
     ]
    },
    {
     "name": "stdout",
     "output_type": "stream",
     "text": [
      "💾 数据已存储到 genshin_impact_reviews_last_year.csv，当前数据量: 27500\n",
      "⏳ 正在爬取 500 条评论...\n"
     ]
    },
    {
     "name": "stderr",
     "output_type": "stream",
     "text": [
      "\n",
      "Total Reviews Fetched:  22%|██████████▏                                   | 28000/126440 [05:05<18:50, 87.10 reviews/s]\u001b[A"
     ]
    },
    {
     "name": "stdout",
     "output_type": "stream",
     "text": [
      "💾 数据已存储到 genshin_impact_reviews_last_year.csv，当前数据量: 28000\n",
      "⏳ 正在爬取 500 条评论...\n"
     ]
    },
    {
     "name": "stderr",
     "output_type": "stream",
     "text": [
      "\n",
      "Total Reviews Fetched:  23%|██████████▎                                   | 28500/126440 [05:10<18:43, 87.17 reviews/s]\u001b[A"
     ]
    },
    {
     "name": "stdout",
     "output_type": "stream",
     "text": [
      "💾 数据已存储到 genshin_impact_reviews_last_year.csv，当前数据量: 28500\n",
      "⏳ 正在爬取 500 条评论...\n"
     ]
    },
    {
     "name": "stderr",
     "output_type": "stream",
     "text": [
      "\n",
      "Total Reviews Fetched:  23%|██████████▌                                   | 29000/126440 [05:16<18:35, 87.32 reviews/s]\u001b[A"
     ]
    },
    {
     "name": "stdout",
     "output_type": "stream",
     "text": [
      "💾 数据已存储到 genshin_impact_reviews_last_year.csv，当前数据量: 29000\n",
      "⏳ 正在爬取 500 条评论...\n"
     ]
    },
    {
     "name": "stderr",
     "output_type": "stream",
     "text": [
      "\n",
      "Total Reviews Fetched:  23%|██████████▋                                   | 29500/126440 [05:22<18:29, 87.35 reviews/s]\u001b[A"
     ]
    },
    {
     "name": "stdout",
     "output_type": "stream",
     "text": [
      "💾 数据已存储到 genshin_impact_reviews_last_year.csv，当前数据量: 29500\n",
      "⏳ 正在爬取 500 条评论...\n"
     ]
    },
    {
     "name": "stderr",
     "output_type": "stream",
     "text": [
      "\n",
      "Total Reviews Fetched:  24%|██████████▉                                   | 30000/126440 [05:27<18:29, 86.96 reviews/s]\u001b[A"
     ]
    },
    {
     "name": "stdout",
     "output_type": "stream",
     "text": [
      "💾 数据已存储到 genshin_impact_reviews_last_year.csv，当前数据量: 30000\n",
      "⏳ 正在爬取 500 条评论...\n"
     ]
    },
    {
     "name": "stderr",
     "output_type": "stream",
     "text": [
      "\n",
      "Total Reviews Fetched:  24%|███████████                                   | 30500/126440 [05:33<18:28, 86.52 reviews/s]\u001b[A"
     ]
    },
    {
     "name": "stdout",
     "output_type": "stream",
     "text": [
      "💾 数据已存储到 genshin_impact_reviews_last_year.csv，当前数据量: 30500\n",
      "⏳ 正在爬取 500 条评论...\n"
     ]
    },
    {
     "name": "stderr",
     "output_type": "stream",
     "text": [
      "\n",
      "Total Reviews Fetched:  25%|███████████▎                                  | 31000/126440 [05:39<18:26, 86.23 reviews/s]\u001b[A"
     ]
    },
    {
     "name": "stdout",
     "output_type": "stream",
     "text": [
      "💾 数据已存储到 genshin_impact_reviews_last_year.csv，当前数据量: 31000\n",
      "⏳ 正在爬取 500 条评论...\n"
     ]
    },
    {
     "name": "stderr",
     "output_type": "stream",
     "text": [
      "\n",
      "Total Reviews Fetched:  25%|███████████▍                                  | 31500/126440 [05:45<18:19, 86.37 reviews/s]\u001b[A"
     ]
    },
    {
     "name": "stdout",
     "output_type": "stream",
     "text": [
      "💾 数据已存储到 genshin_impact_reviews_last_year.csv，当前数据量: 31500\n",
      "⏳ 正在爬取 500 条评论...\n"
     ]
    },
    {
     "name": "stderr",
     "output_type": "stream",
     "text": [
      "\n",
      "Total Reviews Fetched:  25%|███████████▋                                  | 32000/126440 [05:51<18:14, 86.25 reviews/s]\u001b[A"
     ]
    },
    {
     "name": "stdout",
     "output_type": "stream",
     "text": [
      "💾 数据已存储到 genshin_impact_reviews_last_year.csv，当前数据量: 32000\n",
      "⏳ 正在爬取 500 条评论...\n"
     ]
    },
    {
     "name": "stderr",
     "output_type": "stream",
     "text": [
      "\n",
      "Total Reviews Fetched:  26%|███████████▊                                  | 32500/126440 [05:57<18:16, 85.70 reviews/s]\u001b[A"
     ]
    },
    {
     "name": "stdout",
     "output_type": "stream",
     "text": [
      "💾 数据已存储到 genshin_impact_reviews_last_year.csv，当前数据量: 32500\n",
      "⏳ 正在爬取 500 条评论...\n"
     ]
    },
    {
     "name": "stderr",
     "output_type": "stream",
     "text": [
      "\n",
      "Total Reviews Fetched:  26%|████████████                                  | 33000/126440 [06:02<18:07, 85.92 reviews/s]\u001b[A"
     ]
    },
    {
     "name": "stdout",
     "output_type": "stream",
     "text": [
      "💾 数据已存储到 genshin_impact_reviews_last_year.csv，当前数据量: 33000\n",
      "⏳ 正在爬取 500 条评论...\n"
     ]
    },
    {
     "name": "stderr",
     "output_type": "stream",
     "text": [
      "\n",
      "Total Reviews Fetched:  26%|████████████▏                                 | 33500/126440 [06:08<18:01, 85.97 reviews/s]\u001b[A"
     ]
    },
    {
     "name": "stdout",
     "output_type": "stream",
     "text": [
      "💾 数据已存储到 genshin_impact_reviews_last_year.csv，当前数据量: 33500\n",
      "⏳ 正在爬取 500 条评论...\n"
     ]
    },
    {
     "name": "stderr",
     "output_type": "stream",
     "text": [
      "\n",
      "Total Reviews Fetched:  27%|████████████▎                                 | 34000/126440 [06:14<17:57, 85.82 reviews/s]\u001b[A"
     ]
    },
    {
     "name": "stdout",
     "output_type": "stream",
     "text": [
      "💾 数据已存储到 genshin_impact_reviews_last_year.csv，当前数据量: 34000\n",
      "⏳ 正在爬取 500 条评论...\n"
     ]
    },
    {
     "name": "stderr",
     "output_type": "stream",
     "text": [
      "\n",
      "Total Reviews Fetched:  27%|████████████▌                                 | 34500/126440 [06:20<17:55, 85.49 reviews/s]\u001b[A"
     ]
    },
    {
     "name": "stdout",
     "output_type": "stream",
     "text": [
      "💾 数据已存储到 genshin_impact_reviews_last_year.csv，当前数据量: 34500\n",
      "⏳ 正在爬取 500 条评论...\n"
     ]
    },
    {
     "name": "stderr",
     "output_type": "stream",
     "text": [
      "\n",
      "Total Reviews Fetched:  28%|████████████▋                                 | 35000/126440 [06:26<17:46, 85.77 reviews/s]\u001b[A"
     ]
    },
    {
     "name": "stdout",
     "output_type": "stream",
     "text": [
      "💾 数据已存储到 genshin_impact_reviews_last_year.csv，当前数据量: 35000\n",
      "⏳ 正在爬取 500 条评论...\n"
     ]
    },
    {
     "name": "stderr",
     "output_type": "stream",
     "text": [
      "\n",
      "Total Reviews Fetched:  28%|████████████▉                                 | 35500/126440 [06:32<17:43, 85.49 reviews/s]\u001b[A"
     ]
    },
    {
     "name": "stdout",
     "output_type": "stream",
     "text": [
      "💾 数据已存储到 genshin_impact_reviews_last_year.csv，当前数据量: 35500\n",
      "⏳ 正在爬取 500 条评论...\n"
     ]
    },
    {
     "name": "stderr",
     "output_type": "stream",
     "text": [
      "\n",
      "Total Reviews Fetched:  28%|█████████████                                 | 36000/126440 [06:37<17:34, 85.73 reviews/s]\u001b[A"
     ]
    },
    {
     "name": "stdout",
     "output_type": "stream",
     "text": [
      "💾 数据已存储到 genshin_impact_reviews_last_year.csv，当前数据量: 36000\n",
      "⏳ 正在爬取 500 条评论...\n"
     ]
    },
    {
     "name": "stderr",
     "output_type": "stream",
     "text": [
      "\n",
      "Total Reviews Fetched:  29%|█████████████▎                                | 36500/126440 [06:43<17:30, 85.62 reviews/s]\u001b[A"
     ]
    },
    {
     "name": "stdout",
     "output_type": "stream",
     "text": [
      "💾 数据已存储到 genshin_impact_reviews_last_year.csv，当前数据量: 36500\n",
      "⏳ 正在爬取 500 条评论...\n"
     ]
    },
    {
     "name": "stderr",
     "output_type": "stream",
     "text": [
      "\n",
      "Total Reviews Fetched:  29%|█████████████▍                                | 37000/126440 [06:49<17:24, 85.63 reviews/s]\u001b[A"
     ]
    },
    {
     "name": "stdout",
     "output_type": "stream",
     "text": [
      "💾 数据已存储到 genshin_impact_reviews_last_year.csv，当前数据量: 37000\n",
      "⏳ 正在爬取 500 条评论...\n"
     ]
    },
    {
     "name": "stderr",
     "output_type": "stream",
     "text": [
      "\n",
      "Total Reviews Fetched:  30%|█████████████▋                                | 37500/126440 [06:55<17:17, 85.70 reviews/s]\u001b[A"
     ]
    },
    {
     "name": "stdout",
     "output_type": "stream",
     "text": [
      "💾 数据已存储到 genshin_impact_reviews_last_year.csv，当前数据量: 37500\n",
      "⏳ 正在爬取 500 条评论...\n"
     ]
    },
    {
     "name": "stderr",
     "output_type": "stream",
     "text": [
      "\n",
      "Total Reviews Fetched:  30%|█████████████▊                                | 38000/126440 [07:01<17:17, 85.26 reviews/s]\u001b[A"
     ]
    },
    {
     "name": "stdout",
     "output_type": "stream",
     "text": [
      "💾 数据已存储到 genshin_impact_reviews_last_year.csv，当前数据量: 38000\n",
      "⏳ 正在爬取 500 条评论...\n"
     ]
    },
    {
     "name": "stderr",
     "output_type": "stream",
     "text": [
      "\n",
      "Total Reviews Fetched:  30%|██████████████                                | 38500/126440 [07:07<17:11, 85.23 reviews/s]\u001b[A"
     ]
    },
    {
     "name": "stdout",
     "output_type": "stream",
     "text": [
      "💾 数据已存储到 genshin_impact_reviews_last_year.csv，当前数据量: 38500\n",
      "⏳ 正在爬取 500 条评论...\n"
     ]
    },
    {
     "name": "stderr",
     "output_type": "stream",
     "text": [
      "\n",
      "Total Reviews Fetched:  31%|██████████████▏                               | 39000/126440 [07:13<17:04, 85.37 reviews/s]\u001b[A"
     ]
    },
    {
     "name": "stdout",
     "output_type": "stream",
     "text": [
      "💾 数据已存储到 genshin_impact_reviews_last_year.csv，当前数据量: 39000\n",
      "⏳ 正在爬取 500 条评论...\n"
     ]
    },
    {
     "name": "stderr",
     "output_type": "stream",
     "text": [
      "\n",
      "Total Reviews Fetched:  31%|██████████████▎                               | 39500/126440 [07:18<16:57, 85.46 reviews/s]\u001b[A"
     ]
    },
    {
     "name": "stdout",
     "output_type": "stream",
     "text": [
      "💾 数据已存储到 genshin_impact_reviews_last_year.csv，当前数据量: 39500\n",
      "⏳ 正在爬取 500 条评论...\n"
     ]
    },
    {
     "name": "stderr",
     "output_type": "stream",
     "text": [
      "\n",
      "Total Reviews Fetched:  32%|██████████████▌                               | 40000/126440 [07:24<16:52, 85.37 reviews/s]\u001b[A"
     ]
    },
    {
     "name": "stdout",
     "output_type": "stream",
     "text": [
      "💾 数据已存储到 genshin_impact_reviews_last_year.csv，当前数据量: 40000\n",
      "⏳ 正在爬取 500 条评论...\n"
     ]
    },
    {
     "name": "stderr",
     "output_type": "stream",
     "text": [
      "\n",
      "Total Reviews Fetched:  32%|██████████████▋                               | 40500/126440 [07:30<16:54, 84.69 reviews/s]\u001b[A"
     ]
    },
    {
     "name": "stdout",
     "output_type": "stream",
     "text": [
      "💾 数据已存储到 genshin_impact_reviews_last_year.csv，当前数据量: 40500\n",
      "⏳ 正在爬取 500 条评论...\n"
     ]
    },
    {
     "name": "stderr",
     "output_type": "stream",
     "text": [
      "\n",
      "Total Reviews Fetched:  32%|██████████████▉                               | 41000/126440 [07:36<16:47, 84.78 reviews/s]\u001b[A"
     ]
    },
    {
     "name": "stdout",
     "output_type": "stream",
     "text": [
      "💾 数据已存储到 genshin_impact_reviews_last_year.csv，当前数据量: 41000\n",
      "⏳ 正在爬取 500 条评论...\n"
     ]
    },
    {
     "name": "stderr",
     "output_type": "stream",
     "text": [
      "\n",
      "Total Reviews Fetched:  33%|███████████████                               | 41500/126440 [07:42<16:39, 85.00 reviews/s]\u001b[A"
     ]
    },
    {
     "name": "stdout",
     "output_type": "stream",
     "text": [
      "💾 数据已存储到 genshin_impact_reviews_last_year.csv，当前数据量: 41500\n",
      "⏳ 正在爬取 500 条评论...\n"
     ]
    },
    {
     "name": "stderr",
     "output_type": "stream",
     "text": [
      "\n",
      "Total Reviews Fetched:  33%|███████████████▎                              | 42000/126440 [07:48<16:32, 85.06 reviews/s]\u001b[A"
     ]
    },
    {
     "name": "stdout",
     "output_type": "stream",
     "text": [
      "💾 数据已存储到 genshin_impact_reviews_last_year.csv，当前数据量: 42000\n",
      "⏳ 正在爬取 500 条评论...\n"
     ]
    },
    {
     "name": "stderr",
     "output_type": "stream",
     "text": [
      "\n",
      "Total Reviews Fetched:  34%|███████████████▍                              | 42500/126440 [07:54<16:26, 85.13 reviews/s]\u001b[A"
     ]
    },
    {
     "name": "stdout",
     "output_type": "stream",
     "text": [
      "💾 数据已存储到 genshin_impact_reviews_last_year.csv，当前数据量: 42500\n",
      "⏳ 正在爬取 500 条评论...\n"
     ]
    },
    {
     "name": "stderr",
     "output_type": "stream",
     "text": [
      "\n",
      "Total Reviews Fetched:  34%|███████████████▋                              | 43000/126440 [08:00<16:22, 84.91 reviews/s]\u001b[A"
     ]
    },
    {
     "name": "stdout",
     "output_type": "stream",
     "text": [
      "💾 数据已存储到 genshin_impact_reviews_last_year.csv，当前数据量: 43000\n",
      "⏳ 正在爬取 500 条评论...\n"
     ]
    },
    {
     "name": "stderr",
     "output_type": "stream",
     "text": [
      "\n",
      "Total Reviews Fetched:  34%|███████████████▊                              | 43500/126440 [08:06<16:15, 85.00 reviews/s]\u001b[A"
     ]
    },
    {
     "name": "stdout",
     "output_type": "stream",
     "text": [
      "💾 数据已存储到 genshin_impact_reviews_last_year.csv，当前数据量: 43500\n",
      "⏳ 正在爬取 500 条评论...\n"
     ]
    },
    {
     "name": "stderr",
     "output_type": "stream",
     "text": [
      "\n",
      "Total Reviews Fetched:  35%|████████████████                              | 44000/126440 [08:12<16:15, 84.55 reviews/s]\u001b[A"
     ]
    },
    {
     "name": "stdout",
     "output_type": "stream",
     "text": [
      "💾 数据已存储到 genshin_impact_reviews_last_year.csv，当前数据量: 44000\n",
      "⏳ 正在爬取 500 条评论...\n"
     ]
    },
    {
     "name": "stderr",
     "output_type": "stream",
     "text": [
      "\n",
      "Total Reviews Fetched:  35%|████████████████▏                             | 44500/126440 [08:18<16:10, 84.46 reviews/s]\u001b[A"
     ]
    },
    {
     "name": "stdout",
     "output_type": "stream",
     "text": [
      "💾 数据已存储到 genshin_impact_reviews_last_year.csv，当前数据量: 44500\n",
      "⏳ 正在爬取 500 条评论...\n"
     ]
    },
    {
     "name": "stderr",
     "output_type": "stream",
     "text": [
      "\n",
      "Total Reviews Fetched:  36%|████████████████▎                             | 45000/126440 [08:23<16:04, 84.43 reviews/s]\u001b[A"
     ]
    },
    {
     "name": "stdout",
     "output_type": "stream",
     "text": [
      "💾 数据已存储到 genshin_impact_reviews_last_year.csv，当前数据量: 45000\n",
      "⏳ 正在爬取 500 条评论...\n"
     ]
    },
    {
     "name": "stderr",
     "output_type": "stream",
     "text": [
      "\n",
      "Total Reviews Fetched:  36%|████████████████▌                             | 45500/126440 [08:29<15:59, 84.37 reviews/s]\u001b[A"
     ]
    },
    {
     "name": "stdout",
     "output_type": "stream",
     "text": [
      "💾 数据已存储到 genshin_impact_reviews_last_year.csv，当前数据量: 45500\n",
      "⏳ 正在爬取 500 条评论...\n"
     ]
    },
    {
     "name": "stderr",
     "output_type": "stream",
     "text": [
      "\n",
      "Total Reviews Fetched:  36%|████████████████▋                             | 46000/126440 [08:35<15:53, 84.33 reviews/s]\u001b[A"
     ]
    },
    {
     "name": "stdout",
     "output_type": "stream",
     "text": [
      "💾 数据已存储到 genshin_impact_reviews_last_year.csv，当前数据量: 46000\n",
      "⏳ 正在爬取 500 条评论...\n"
     ]
    },
    {
     "name": "stderr",
     "output_type": "stream",
     "text": [
      "\n",
      "Total Reviews Fetched:  37%|████████████████▉                             | 46500/126440 [08:41<15:47, 84.39 reviews/s]\u001b[A"
     ]
    },
    {
     "name": "stdout",
     "output_type": "stream",
     "text": [
      "💾 数据已存储到 genshin_impact_reviews_last_year.csv，当前数据量: 46500\n",
      "⏳ 正在爬取 500 条评论...\n"
     ]
    },
    {
     "name": "stderr",
     "output_type": "stream",
     "text": [
      "\n",
      "Total Reviews Fetched:  37%|█████████████████                             | 47000/126440 [08:47<15:48, 83.79 reviews/s]\u001b[A"
     ]
    },
    {
     "name": "stdout",
     "output_type": "stream",
     "text": [
      "💾 数据已存储到 genshin_impact_reviews_last_year.csv，当前数据量: 47000\n",
      "⏳ 正在爬取 500 条评论...\n"
     ]
    },
    {
     "name": "stderr",
     "output_type": "stream",
     "text": [
      "\n",
      "Total Reviews Fetched:  38%|█████████████████▎                            | 47500/126440 [08:53<15:41, 83.82 reviews/s]\u001b[A"
     ]
    },
    {
     "name": "stdout",
     "output_type": "stream",
     "text": [
      "💾 数据已存储到 genshin_impact_reviews_last_year.csv，当前数据量: 47500\n",
      "⏳ 正在爬取 500 条评论...\n"
     ]
    },
    {
     "name": "stderr",
     "output_type": "stream",
     "text": [
      "\n",
      "Total Reviews Fetched:  38%|█████████████████▍                            | 48000/126440 [08:59<15:36, 83.72 reviews/s]\u001b[A"
     ]
    },
    {
     "name": "stdout",
     "output_type": "stream",
     "text": [
      "💾 数据已存储到 genshin_impact_reviews_last_year.csv，当前数据量: 48000\n",
      "⏳ 正在爬取 500 条评论...\n"
     ]
    },
    {
     "name": "stderr",
     "output_type": "stream",
     "text": [
      "\n",
      "Total Reviews Fetched:  38%|█████████████████▋                            | 48500/126440 [09:05<15:30, 83.73 reviews/s]\u001b[A"
     ]
    },
    {
     "name": "stdout",
     "output_type": "stream",
     "text": [
      "💾 数据已存储到 genshin_impact_reviews_last_year.csv，当前数据量: 48500\n",
      "⏳ 正在爬取 500 条评论...\n"
     ]
    },
    {
     "name": "stderr",
     "output_type": "stream",
     "text": [
      "\n",
      "Total Reviews Fetched:  39%|█████████████████▊                            | 49000/126440 [09:11<15:25, 83.66 reviews/s]\u001b[A"
     ]
    },
    {
     "name": "stdout",
     "output_type": "stream",
     "text": [
      "💾 数据已存储到 genshin_impact_reviews_last_year.csv，当前数据量: 49000\n",
      "⏳ 正在爬取 500 条评论...\n"
     ]
    },
    {
     "name": "stderr",
     "output_type": "stream",
     "text": [
      "\n",
      "Total Reviews Fetched:  39%|██████████████████                            | 49500/126440 [09:17<15:18, 83.73 reviews/s]\u001b[A"
     ]
    },
    {
     "name": "stdout",
     "output_type": "stream",
     "text": [
      "💾 数据已存储到 genshin_impact_reviews_last_year.csv，当前数据量: 49500\n",
      "⏳ 正在爬取 500 条评论...\n"
     ]
    },
    {
     "name": "stderr",
     "output_type": "stream",
     "text": [
      "\n",
      "Total Reviews Fetched:  40%|██████████████████▏                           | 50000/126440 [09:23<15:12, 83.78 reviews/s]\u001b[A"
     ]
    },
    {
     "name": "stdout",
     "output_type": "stream",
     "text": [
      "💾 数据已存储到 genshin_impact_reviews_last_year.csv，当前数据量: 50000\n",
      "⏳ 正在爬取 500 条评论...\n"
     ]
    },
    {
     "name": "stderr",
     "output_type": "stream",
     "text": [
      "\n",
      "Total Reviews Fetched:  40%|██████████████████▎                           | 50500/126440 [09:29<15:13, 83.11 reviews/s]\u001b[A"
     ]
    },
    {
     "name": "stdout",
     "output_type": "stream",
     "text": [
      "💾 数据已存储到 genshin_impact_reviews_last_year.csv，当前数据量: 50500\n",
      "⏳ 正在爬取 500 条评论...\n"
     ]
    },
    {
     "name": "stderr",
     "output_type": "stream",
     "text": [
      "\n",
      "Total Reviews Fetched:  40%|██████████████████▌                           | 51000/126440 [09:35<15:11, 82.77 reviews/s]\u001b[A"
     ]
    },
    {
     "name": "stdout",
     "output_type": "stream",
     "text": [
      "💾 数据已存储到 genshin_impact_reviews_last_year.csv，当前数据量: 51000\n",
      "⏳ 正在爬取 500 条评论...\n"
     ]
    },
    {
     "name": "stderr",
     "output_type": "stream",
     "text": [
      "\n",
      "Total Reviews Fetched:  41%|██████████████████▋                           | 51500/126440 [09:41<15:03, 82.97 reviews/s]\u001b[A"
     ]
    },
    {
     "name": "stdout",
     "output_type": "stream",
     "text": [
      "💾 数据已存储到 genshin_impact_reviews_last_year.csv，当前数据量: 51500\n",
      "⏳ 正在爬取 500 条评论...\n"
     ]
    },
    {
     "name": "stderr",
     "output_type": "stream",
     "text": [
      "\n",
      "Total Reviews Fetched:  41%|██████████████████▉                           | 52000/126440 [09:47<14:56, 83.07 reviews/s]\u001b[A"
     ]
    },
    {
     "name": "stdout",
     "output_type": "stream",
     "text": [
      "💾 数据已存储到 genshin_impact_reviews_last_year.csv，当前数据量: 52000\n",
      "⏳ 正在爬取 500 条评论...\n"
     ]
    },
    {
     "name": "stderr",
     "output_type": "stream",
     "text": [
      "\n",
      "Total Reviews Fetched:  42%|███████████████████                           | 52500/126440 [09:53<14:49, 83.13 reviews/s]\u001b[A"
     ]
    },
    {
     "name": "stdout",
     "output_type": "stream",
     "text": [
      "💾 数据已存储到 genshin_impact_reviews_last_year.csv，当前数据量: 52500\n",
      "⏳ 正在爬取 500 条评论...\n"
     ]
    },
    {
     "name": "stderr",
     "output_type": "stream",
     "text": [
      "\n",
      "Total Reviews Fetched:  42%|███████████████████▎                          | 53000/126440 [09:59<14:46, 82.88 reviews/s]\u001b[A"
     ]
    },
    {
     "name": "stdout",
     "output_type": "stream",
     "text": [
      "💾 数据已存储到 genshin_impact_reviews_last_year.csv，当前数据量: 53000\n",
      "⏳ 正在爬取 500 条评论...\n"
     ]
    },
    {
     "name": "stderr",
     "output_type": "stream",
     "text": [
      "\n",
      "Total Reviews Fetched:  42%|███████████████████▍                          | 53500/126440 [10:05<14:40, 82.88 reviews/s]\u001b[A"
     ]
    },
    {
     "name": "stdout",
     "output_type": "stream",
     "text": [
      "💾 数据已存储到 genshin_impact_reviews_last_year.csv，当前数据量: 53500\n",
      "⏳ 正在爬取 500 条评论...\n"
     ]
    },
    {
     "name": "stderr",
     "output_type": "stream",
     "text": [
      "\n",
      "Total Reviews Fetched:  43%|███████████████████▋                          | 54000/126440 [10:12<14:33, 82.89 reviews/s]\u001b[A"
     ]
    },
    {
     "name": "stdout",
     "output_type": "stream",
     "text": [
      "💾 数据已存储到 genshin_impact_reviews_last_year.csv，当前数据量: 54000\n",
      "⏳ 正在爬取 500 条评论...\n"
     ]
    },
    {
     "name": "stderr",
     "output_type": "stream",
     "text": [
      "\n",
      "Total Reviews Fetched:  43%|███████████████████▊                          | 54500/126440 [10:18<14:31, 82.54 reviews/s]\u001b[A"
     ]
    },
    {
     "name": "stdout",
     "output_type": "stream",
     "text": [
      "💾 数据已存储到 genshin_impact_reviews_last_year.csv，当前数据量: 54500\n",
      "⏳ 正在爬取 500 条评论...\n"
     ]
    },
    {
     "name": "stderr",
     "output_type": "stream",
     "text": [
      "\n",
      "Total Reviews Fetched:  43%|████████████████████                          | 55000/126440 [10:24<14:27, 82.34 reviews/s]\u001b[A"
     ]
    },
    {
     "name": "stdout",
     "output_type": "stream",
     "text": [
      "💾 数据已存储到 genshin_impact_reviews_last_year.csv，当前数据量: 55000\n",
      "⏳ 正在爬取 500 条评论...\n"
     ]
    },
    {
     "name": "stderr",
     "output_type": "stream",
     "text": [
      "\n",
      "Total Reviews Fetched:  44%|████████████████████▏                         | 55500/126440 [10:30<14:20, 82.46 reviews/s]\u001b[A"
     ]
    },
    {
     "name": "stdout",
     "output_type": "stream",
     "text": [
      "💾 数据已存储到 genshin_impact_reviews_last_year.csv，当前数据量: 55500\n",
      "⏳ 正在爬取 500 条评论...\n"
     ]
    },
    {
     "name": "stderr",
     "output_type": "stream",
     "text": [
      "\n",
      "Total Reviews Fetched:  44%|████████████████████▎                         | 56000/126440 [10:36<14:17, 82.16 reviews/s]\u001b[A"
     ]
    },
    {
     "name": "stdout",
     "output_type": "stream",
     "text": [
      "💾 数据已存储到 genshin_impact_reviews_last_year.csv，当前数据量: 56000\n",
      "⏳ 正在爬取 500 条评论...\n"
     ]
    },
    {
     "name": "stderr",
     "output_type": "stream",
     "text": [
      "\n",
      "Total Reviews Fetched:  45%|████████████████████▌                         | 56500/126440 [10:42<14:10, 82.22 reviews/s]\u001b[A"
     ]
    },
    {
     "name": "stdout",
     "output_type": "stream",
     "text": [
      "💾 数据已存储到 genshin_impact_reviews_last_year.csv，当前数据量: 56500\n",
      "⏳ 正在爬取 500 条评论...\n"
     ]
    },
    {
     "name": "stderr",
     "output_type": "stream",
     "text": [
      "\n",
      "Total Reviews Fetched:  45%|████████████████████▋                         | 57000/126440 [10:48<14:09, 81.79 reviews/s]\u001b[A"
     ]
    },
    {
     "name": "stdout",
     "output_type": "stream",
     "text": [
      "💾 数据已存储到 genshin_impact_reviews_last_year.csv，当前数据量: 57000\n",
      "⏳ 正在爬取 500 条评论...\n"
     ]
    },
    {
     "name": "stderr",
     "output_type": "stream",
     "text": [
      "\n",
      "Total Reviews Fetched:  45%|████████████████████▉                         | 57500/126440 [10:54<14:00, 81.99 reviews/s]\u001b[A"
     ]
    },
    {
     "name": "stdout",
     "output_type": "stream",
     "text": [
      "💾 数据已存储到 genshin_impact_reviews_last_year.csv，当前数据量: 57500\n",
      "⏳ 正在爬取 500 条评论...\n"
     ]
    },
    {
     "name": "stderr",
     "output_type": "stream",
     "text": [
      "\n",
      "Total Reviews Fetched:  46%|█████████████████████                         | 58000/126440 [11:00<13:54, 82.04 reviews/s]\u001b[A"
     ]
    },
    {
     "name": "stdout",
     "output_type": "stream",
     "text": [
      "💾 数据已存储到 genshin_impact_reviews_last_year.csv，当前数据量: 58000\n",
      "⏳ 正在爬取 500 条评论...\n"
     ]
    },
    {
     "name": "stderr",
     "output_type": "stream",
     "text": [
      "\n",
      "Total Reviews Fetched:  46%|█████████████████████▎                        | 58500/126440 [11:06<13:47, 82.15 reviews/s]\u001b[A"
     ]
    },
    {
     "name": "stdout",
     "output_type": "stream",
     "text": [
      "💾 数据已存储到 genshin_impact_reviews_last_year.csv，当前数据量: 58500\n",
      "⏳ 正在爬取 500 条评论...\n"
     ]
    },
    {
     "name": "stderr",
     "output_type": "stream",
     "text": [
      "\n",
      "Total Reviews Fetched:  47%|█████████████████████▍                        | 59000/126440 [11:13<13:42, 82.02 reviews/s]\u001b[A"
     ]
    },
    {
     "name": "stdout",
     "output_type": "stream",
     "text": [
      "💾 数据已存储到 genshin_impact_reviews_last_year.csv，当前数据量: 59000\n",
      "⏳ 正在爬取 500 条评论...\n"
     ]
    },
    {
     "name": "stderr",
     "output_type": "stream",
     "text": [
      "\n",
      "Total Reviews Fetched:  47%|█████████████████████▋                        | 59500/126440 [11:19<13:35, 82.04 reviews/s]\u001b[A"
     ]
    },
    {
     "name": "stdout",
     "output_type": "stream",
     "text": [
      "💾 数据已存储到 genshin_impact_reviews_last_year.csv，当前数据量: 59500\n",
      "⏳ 正在爬取 500 条评论...\n"
     ]
    },
    {
     "name": "stderr",
     "output_type": "stream",
     "text": [
      "\n",
      "Total Reviews Fetched:  47%|█████████████████████▊                        | 60000/126440 [11:25<13:30, 82.01 reviews/s]\u001b[A"
     ]
    },
    {
     "name": "stdout",
     "output_type": "stream",
     "text": [
      "💾 数据已存储到 genshin_impact_reviews_last_year.csv，当前数据量: 60000\n",
      "⏳ 正在爬取 500 条评论...\n"
     ]
    },
    {
     "name": "stderr",
     "output_type": "stream",
     "text": [
      "\n",
      "Total Reviews Fetched:  48%|██████████████████████                        | 60500/126440 [11:31<13:26, 81.75 reviews/s]\u001b[A"
     ]
    },
    {
     "name": "stdout",
     "output_type": "stream",
     "text": [
      "💾 数据已存储到 genshin_impact_reviews_last_year.csv，当前数据量: 60500\n",
      "⏳ 正在爬取 500 条评论...\n"
     ]
    },
    {
     "name": "stderr",
     "output_type": "stream",
     "text": [
      "\n",
      "Total Reviews Fetched:  48%|██████████████████████                        | 60671/126440 [11:37<16:41, 65.69 reviews/s]\u001b[A"
     ]
    },
    {
     "name": "stdout",
     "output_type": "stream",
     "text": [
      "💾 数据已存储到 genshin_impact_reviews_last_year.csv，当前数据量: 60671\n",
      "⏳ 正在爬取 500 条评论...\n"
     ]
    },
    {
     "name": "stderr",
     "output_type": "stream",
     "text": [
      "Total Reviews Fetched:  48%|██████████████████████                        | 60671/126440 [11:43<12:42, 86.23 reviews/s]"
     ]
    },
    {
     "name": "stdout",
     "output_type": "stream",
     "text": [
      "🎉 已经爬取到一年前的评论，任务完成\n",
      "🎯 爬取完成，共 60671 条评论，数据已存储至 genshin_impact_reviews_last_year.csv\n"
     ]
    },
    {
     "name": "stderr",
     "output_type": "stream",
     "text": [
      "\n"
     ]
    }
   ],
   "source": [
    "from google_play_scraper import app, reviews, Sort\n",
    "import pandas as pd\n",
    "import time\n",
    "import datetime\n",
    "from tqdm import tqdm\n",
    "\n",
    "# 目标 APP ID（Genshin Impact）\n",
    "app_id = \"com.miHoYo.GenshinImpact\"\n",
    "\n",
    "# 设定爬取的国家和语言（美国地区，英文）\n",
    "target_country = \"us\"\n",
    "target_lang = \"en\"\n",
    "\n",
    "# 每次抓取的数量（最大 500）\n",
    "batch_size = 500\n",
    "\n",
    "# 设定爬取的时间范围（只爬取近 1 年）\n",
    "one_year_ago = datetime.datetime.now() - datetime.timedelta(days=365)\n",
    "\n",
    "# 数据存储路径\n",
    "output_file = \"genshin_impact_reviews_last_year.csv\"\n",
    "\n",
    "# 1️⃣ 获取 APP 的总评论数\n",
    "app_info = app(app_id, lang=target_lang, country=target_country)\n",
    "total_reviews_available = app_info[\"reviews\"]\n",
    "\n",
    "print(f\"🎯 该 APP 在 Google Play 上的总评论数: {total_reviews_available}\")\n",
    "\n",
    "# 2️⃣ 计算大致需要爬取的次数\n",
    "estimated_batches = total_reviews_available // batch_size\n",
    "print(f\"⏳ 预计需要爬取 {estimated_batches} 次，每次 {batch_size} 条\")\n",
    "\n",
    "# 3️⃣ 初始化 tqdm 进度条\n",
    "pbar = tqdm(total=total_reviews_available, desc=\"Total Reviews Fetched\", unit=\" reviews\")\n",
    "\n",
    "# 4️⃣ 初始化翻页 token\n",
    "continuation_token = None\n",
    "total_fetched = 0  # 总计爬取的评论数\n",
    "\n",
    "# 5️⃣ 循环爬取，直到没有新评论或达到 1 年前\n",
    "while True:\n",
    "    try:\n",
    "        print(f\"⏳ 正在爬取 {batch_size} 条评论...\")\n",
    "\n",
    "        # 发送爬取请求\n",
    "        app_reviews, new_continuation_token = reviews(\n",
    "            app_id,\n",
    "            lang=target_lang,\n",
    "            country=target_country,\n",
    "            sort=Sort.NEWEST,  # 按最新时间排序\n",
    "            count=batch_size,  # 每次最多 500 条\n",
    "            continuation_token=continuation_token  # 翻页 token\n",
    "        )\n",
    "\n",
    "        # 如果没有新评论，停止爬取\n",
    "        if not app_reviews:\n",
    "            print(\"🎉 没有更多可爬取的评论，任务完成\")\n",
    "            break\n",
    "\n",
    "        # 过滤掉超过 1 年前的数据\n",
    "        filtered_reviews = [r for r in app_reviews if r[\"at\"] >= one_year_ago]\n",
    "        if not filtered_reviews:\n",
    "            print(\"🎉 已经爬取到一年前的评论，任务完成\")\n",
    "            break\n",
    "\n",
    "        # 更新翻页 token\n",
    "        continuation_token = new_continuation_token\n",
    "\n",
    "        # 6️⃣ **实时存储到 CSV**\n",
    "        df = pd.DataFrame(filtered_reviews)\n",
    "\n",
    "        # **每次爬取都追加存储，不检查是否重复**\n",
    "        df.to_csv(output_file, mode='a', header=not pd.io.common.file_exists(output_file), index=False)\n",
    "\n",
    "        # 更新计数\n",
    "        total_fetched += len(filtered_reviews)\n",
    "\n",
    "        print(f\"💾 数据已存储到 {output_file}，当前数据量: {total_fetched}\")\n",
    "\n",
    "        # 更新 tqdm 进度条\n",
    "        pbar.update(len(filtered_reviews))\n",
    "\n",
    "        # 适当休眠，避免被封 IP\n",
    "        time.sleep(5)\n",
    "\n",
    "    except Exception as e:\n",
    "        print(f\"⚠️ 爬取出错：{e}\")\n",
    "        break\n",
    "\n",
    "# 关闭 tqdm 进度条\n",
    "pbar.close()\n",
    "\n",
    "print(f\"🎯 爬取完成，共 {total_fetched} 条评论，数据已存储至 {output_file}\")\n"
   ]
  },
  {
   "cell_type": "code",
   "execution_count": null,
   "id": "cfa24a6a-7c7b-47cd-aa51-96c61cf860f8",
   "metadata": {},
   "outputs": [],
   "source": []
  }
 ],
 "metadata": {
  "kernelspec": {
   "display_name": "Python 3 (ipykernel)",
   "language": "python",
   "name": "python3"
  },
  "language_info": {
   "codemirror_mode": {
    "name": "ipython",
    "version": 3
   },
   "file_extension": ".py",
   "mimetype": "text/x-python",
   "name": "python",
   "nbconvert_exporter": "python",
   "pygments_lexer": "ipython3",
   "version": "3.12.4"
  }
 },
 "nbformat": 4,
 "nbformat_minor": 5
}
